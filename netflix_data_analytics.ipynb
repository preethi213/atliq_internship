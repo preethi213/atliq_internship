{
 "cells": [
  {
   "cell_type": "markdown",
   "id": "e66bfded-0e27-4cc4-b088-ca8de239a0d1",
   "metadata": {},
   "source": [
    "##__Netflix data analytics__"
   ]
  },
  {
   "cell_type": "code",
   "execution_count": 47,
   "id": "d5a1e9c2-af7f-4635-88d6-845e4781f4a2",
   "metadata": {},
   "outputs": [],
   "source": [
    "import pandas as pd\n",
    "import numpy as np"
   ]
  },
  {
   "cell_type": "code",
   "execution_count": 4,
   "id": "8c6de0bf-f9d9-4894-b324-e13c46937bb7",
   "metadata": {},
   "outputs": [
    {
     "data": {
      "text/html": [
       "<div>\n",
       "<style scoped>\n",
       "    .dataframe tbody tr th:only-of-type {\n",
       "        vertical-align: middle;\n",
       "    }\n",
       "\n",
       "    .dataframe tbody tr th {\n",
       "        vertical-align: top;\n",
       "    }\n",
       "\n",
       "    .dataframe thead th {\n",
       "        text-align: right;\n",
       "    }\n",
       "</style>\n",
       "<table border=\"1\" class=\"dataframe\">\n",
       "  <thead>\n",
       "    <tr style=\"text-align: right;\">\n",
       "      <th></th>\n",
       "      <th>video_id</th>\n",
       "      <th>title</th>\n",
       "      <th>description</th>\n",
       "      <th>tags</th>\n",
       "      <th>publishedAt</th>\n",
       "      <th>thumbnails</th>\n",
       "      <th>liveBroadcastContent</th>\n",
       "      <th>viewCount</th>\n",
       "      <th>likeCount</th>\n",
       "      <th>commentCount</th>\n",
       "      <th>duration</th>\n",
       "    </tr>\n",
       "  </thead>\n",
       "  <tbody>\n",
       "    <tr>\n",
       "      <th>0</th>\n",
       "      <td>KQ2a4uawQBo</td>\n",
       "      <td>Meet THE REAL Honey Singh | Yo Yo Honey Singh:...</td>\n",
       "      <td>Honey Singh shares his battles with mental hea...</td>\n",
       "      <td>['angreji beat', 'dope shope', 'honey singh', ...</td>\n",
       "      <td>2024-12-20T08:00:00Z</td>\n",
       "      <td>{'default': {'url': 'https://i.ytimg.com/vi/KQ...</td>\n",
       "      <td>none</td>\n",
       "      <td>52864</td>\n",
       "      <td>7111.0</td>\n",
       "      <td>394.0</td>\n",
       "      <td>PT1M11S</td>\n",
       "    </tr>\n",
       "    <tr>\n",
       "      <th>1</th>\n",
       "      <td>bOR7S0j_wq8</td>\n",
       "      <td>⁠Akshay Kumar ALMOST Gets Caught Cheating! 👀 f...</td>\n",
       "      <td>Brb taking notes on how to lie like a pro 👀\\r\\...</td>\n",
       "      <td>['aditya seal', 'akshay kumar', 'akshay kumar ...</td>\n",
       "      <td>2024-12-19T12:30:00Z</td>\n",
       "      <td>{'default': {'url': 'https://i.ytimg.com/vi/bO...</td>\n",
       "      <td>none</td>\n",
       "      <td>44300</td>\n",
       "      <td>642.0</td>\n",
       "      <td>30.0</td>\n",
       "      <td>PT3M2S</td>\n",
       "    </tr>\n",
       "    <tr>\n",
       "      <th>2</th>\n",
       "      <td>GRM8Q-1fVJ0</td>\n",
       "      <td>Black Warrant | Official Teaser | Vikramaditya...</td>\n",
       "      <td>India ki sabse khatarnaak jail mein, ek naya j...</td>\n",
       "      <td>['netflix india', 'netflix', 'netflix shows', ...</td>\n",
       "      <td>2024-12-19T05:30:10Z</td>\n",
       "      <td>{'default': {'url': 'https://i.ytimg.com/vi/GR...</td>\n",
       "      <td>none</td>\n",
       "      <td>201087</td>\n",
       "      <td>3300.0</td>\n",
       "      <td>101.0</td>\n",
       "      <td>PT1M15S</td>\n",
       "    </tr>\n",
       "    <tr>\n",
       "      <th>3</th>\n",
       "      <td>b0b8WBglCHo</td>\n",
       "      <td>The Electric State | Official Trailer | Netfli...</td>\n",
       "      <td>In the aftermath of the robot war, the only pa...</td>\n",
       "      <td>['AGBO', 'Action', 'Adventure', 'Anthony Russo...</td>\n",
       "      <td>2024-12-18T14:30:00Z</td>\n",
       "      <td>{'default': {'url': 'https://i.ytimg.com/vi/b0...</td>\n",
       "      <td>none</td>\n",
       "      <td>19642</td>\n",
       "      <td>354.0</td>\n",
       "      <td>25.0</td>\n",
       "      <td>PT1M44S</td>\n",
       "    </tr>\n",
       "    <tr>\n",
       "      <th>4</th>\n",
       "      <td>QCPOl_7cdnQ</td>\n",
       "      <td>The Electric State | Official Trailer | Hindi ...</td>\n",
       "      <td>In the aftermath of the robot war, the only pa...</td>\n",
       "      <td>['AGBO', 'Netflix', 'Netflix पर क्या देखना चाह...</td>\n",
       "      <td>2024-12-18T13:30:05Z</td>\n",
       "      <td>{'default': {'url': 'https://i.ytimg.com/vi/QC...</td>\n",
       "      <td>none</td>\n",
       "      <td>117292</td>\n",
       "      <td>3455.0</td>\n",
       "      <td>130.0</td>\n",
       "      <td>PT1M41S</td>\n",
       "    </tr>\n",
       "  </tbody>\n",
       "</table>\n",
       "</div>"
      ],
      "text/plain": [
       "      video_id                                              title  \\\n",
       "0  KQ2a4uawQBo  Meet THE REAL Honey Singh | Yo Yo Honey Singh:...   \n",
       "1  bOR7S0j_wq8  ⁠Akshay Kumar ALMOST Gets Caught Cheating! 👀 f...   \n",
       "2  GRM8Q-1fVJ0  Black Warrant | Official Teaser | Vikramaditya...   \n",
       "3  b0b8WBglCHo  The Electric State | Official Trailer | Netfli...   \n",
       "4  QCPOl_7cdnQ  The Electric State | Official Trailer | Hindi ...   \n",
       "\n",
       "                                         description  \\\n",
       "0  Honey Singh shares his battles with mental hea...   \n",
       "1  Brb taking notes on how to lie like a pro 👀\\r\\...   \n",
       "2  India ki sabse khatarnaak jail mein, ek naya j...   \n",
       "3  In the aftermath of the robot war, the only pa...   \n",
       "4  In the aftermath of the robot war, the only pa...   \n",
       "\n",
       "                                                tags           publishedAt  \\\n",
       "0  ['angreji beat', 'dope shope', 'honey singh', ...  2024-12-20T08:00:00Z   \n",
       "1  ['aditya seal', 'akshay kumar', 'akshay kumar ...  2024-12-19T12:30:00Z   \n",
       "2  ['netflix india', 'netflix', 'netflix shows', ...  2024-12-19T05:30:10Z   \n",
       "3  ['AGBO', 'Action', 'Adventure', 'Anthony Russo...  2024-12-18T14:30:00Z   \n",
       "4  ['AGBO', 'Netflix', 'Netflix पर क्या देखना चाह...  2024-12-18T13:30:05Z   \n",
       "\n",
       "                                          thumbnails liveBroadcastContent  \\\n",
       "0  {'default': {'url': 'https://i.ytimg.com/vi/KQ...                 none   \n",
       "1  {'default': {'url': 'https://i.ytimg.com/vi/bO...                 none   \n",
       "2  {'default': {'url': 'https://i.ytimg.com/vi/GR...                 none   \n",
       "3  {'default': {'url': 'https://i.ytimg.com/vi/b0...                 none   \n",
       "4  {'default': {'url': 'https://i.ytimg.com/vi/QC...                 none   \n",
       "\n",
       "   viewCount  likeCount  commentCount duration  \n",
       "0      52864     7111.0         394.0  PT1M11S  \n",
       "1      44300      642.0          30.0   PT3M2S  \n",
       "2     201087     3300.0         101.0  PT1M15S  \n",
       "3      19642      354.0          25.0  PT1M44S  \n",
       "4     117292     3455.0         130.0  PT1M41S  "
      ]
     },
     "execution_count": 4,
     "metadata": {},
     "output_type": "execute_result"
    }
   ],
   "source": [
    "df = pd.read_csv('netflix_india_yt_data.csv')\n",
    "df.head()"
   ]
  },
  {
   "cell_type": "code",
   "execution_count": null,
   "id": "d37c5345-ce52-4d09-88d6-77e2e8b8e978",
   "metadata": {},
   "outputs": [],
   "source": []
  },
  {
   "cell_type": "code",
   "execution_count": 5,
   "id": "d4d7bd2a-89ff-49c5-bf1f-8de80121049e",
   "metadata": {},
   "outputs": [],
   "source": [
    "\n",
    "def convert_to_minutes_or_seconds(duration, output_format='minutes'):\n",
    "    td = pd.Timedelta(duration)\n",
    "    \n",
    "    if output_format == 'minutes':\n",
    "        return td.total_seconds() / 60  # Convert to total minutes\n",
    "    elif output_format == 'seconds':\n",
    "        return td.total_seconds()       # Convert to total seconds\n",
    "\n",
    "# Apply the function to the 'duration' column of the 'data' DataFrame\n",
    "df['duration'] = df['duration'].apply(convert_to_minutes_or_seconds, output_format='minutes')"
   ]
  },
  {
   "cell_type": "code",
   "execution_count": 6,
   "id": "4b172d7c-fab3-47ff-a2a9-253788c22327",
   "metadata": {},
   "outputs": [
    {
     "data": {
      "text/html": [
       "<div>\n",
       "<style scoped>\n",
       "    .dataframe tbody tr th:only-of-type {\n",
       "        vertical-align: middle;\n",
       "    }\n",
       "\n",
       "    .dataframe tbody tr th {\n",
       "        vertical-align: top;\n",
       "    }\n",
       "\n",
       "    .dataframe thead th {\n",
       "        text-align: right;\n",
       "    }\n",
       "</style>\n",
       "<table border=\"1\" class=\"dataframe\">\n",
       "  <thead>\n",
       "    <tr style=\"text-align: right;\">\n",
       "      <th></th>\n",
       "      <th>video_id</th>\n",
       "      <th>title</th>\n",
       "      <th>description</th>\n",
       "      <th>tags</th>\n",
       "      <th>publishedAt</th>\n",
       "      <th>thumbnails</th>\n",
       "      <th>liveBroadcastContent</th>\n",
       "      <th>viewCount</th>\n",
       "      <th>likeCount</th>\n",
       "      <th>commentCount</th>\n",
       "      <th>duration</th>\n",
       "    </tr>\n",
       "  </thead>\n",
       "  <tbody>\n",
       "    <tr>\n",
       "      <th>0</th>\n",
       "      <td>KQ2a4uawQBo</td>\n",
       "      <td>Meet THE REAL Honey Singh | Yo Yo Honey Singh:...</td>\n",
       "      <td>Honey Singh shares his battles with mental hea...</td>\n",
       "      <td>['angreji beat', 'dope shope', 'honey singh', ...</td>\n",
       "      <td>2024-12-20T08:00:00Z</td>\n",
       "      <td>{'default': {'url': 'https://i.ytimg.com/vi/KQ...</td>\n",
       "      <td>none</td>\n",
       "      <td>52864</td>\n",
       "      <td>7111.0</td>\n",
       "      <td>394.0</td>\n",
       "      <td>1.183333</td>\n",
       "    </tr>\n",
       "    <tr>\n",
       "      <th>1</th>\n",
       "      <td>bOR7S0j_wq8</td>\n",
       "      <td>⁠Akshay Kumar ALMOST Gets Caught Cheating! 👀 f...</td>\n",
       "      <td>Brb taking notes on how to lie like a pro 👀\\r\\...</td>\n",
       "      <td>['aditya seal', 'akshay kumar', 'akshay kumar ...</td>\n",
       "      <td>2024-12-19T12:30:00Z</td>\n",
       "      <td>{'default': {'url': 'https://i.ytimg.com/vi/bO...</td>\n",
       "      <td>none</td>\n",
       "      <td>44300</td>\n",
       "      <td>642.0</td>\n",
       "      <td>30.0</td>\n",
       "      <td>3.033333</td>\n",
       "    </tr>\n",
       "    <tr>\n",
       "      <th>2</th>\n",
       "      <td>GRM8Q-1fVJ0</td>\n",
       "      <td>Black Warrant | Official Teaser | Vikramaditya...</td>\n",
       "      <td>India ki sabse khatarnaak jail mein, ek naya j...</td>\n",
       "      <td>['netflix india', 'netflix', 'netflix shows', ...</td>\n",
       "      <td>2024-12-19T05:30:10Z</td>\n",
       "      <td>{'default': {'url': 'https://i.ytimg.com/vi/GR...</td>\n",
       "      <td>none</td>\n",
       "      <td>201087</td>\n",
       "      <td>3300.0</td>\n",
       "      <td>101.0</td>\n",
       "      <td>1.250000</td>\n",
       "    </tr>\n",
       "    <tr>\n",
       "      <th>3</th>\n",
       "      <td>b0b8WBglCHo</td>\n",
       "      <td>The Electric State | Official Trailer | Netfli...</td>\n",
       "      <td>In the aftermath of the robot war, the only pa...</td>\n",
       "      <td>['AGBO', 'Action', 'Adventure', 'Anthony Russo...</td>\n",
       "      <td>2024-12-18T14:30:00Z</td>\n",
       "      <td>{'default': {'url': 'https://i.ytimg.com/vi/b0...</td>\n",
       "      <td>none</td>\n",
       "      <td>19642</td>\n",
       "      <td>354.0</td>\n",
       "      <td>25.0</td>\n",
       "      <td>1.733333</td>\n",
       "    </tr>\n",
       "    <tr>\n",
       "      <th>4</th>\n",
       "      <td>QCPOl_7cdnQ</td>\n",
       "      <td>The Electric State | Official Trailer | Hindi ...</td>\n",
       "      <td>In the aftermath of the robot war, the only pa...</td>\n",
       "      <td>['AGBO', 'Netflix', 'Netflix पर क्या देखना चाह...</td>\n",
       "      <td>2024-12-18T13:30:05Z</td>\n",
       "      <td>{'default': {'url': 'https://i.ytimg.com/vi/QC...</td>\n",
       "      <td>none</td>\n",
       "      <td>117292</td>\n",
       "      <td>3455.0</td>\n",
       "      <td>130.0</td>\n",
       "      <td>1.683333</td>\n",
       "    </tr>\n",
       "  </tbody>\n",
       "</table>\n",
       "</div>"
      ],
      "text/plain": [
       "      video_id                                              title  \\\n",
       "0  KQ2a4uawQBo  Meet THE REAL Honey Singh | Yo Yo Honey Singh:...   \n",
       "1  bOR7S0j_wq8  ⁠Akshay Kumar ALMOST Gets Caught Cheating! 👀 f...   \n",
       "2  GRM8Q-1fVJ0  Black Warrant | Official Teaser | Vikramaditya...   \n",
       "3  b0b8WBglCHo  The Electric State | Official Trailer | Netfli...   \n",
       "4  QCPOl_7cdnQ  The Electric State | Official Trailer | Hindi ...   \n",
       "\n",
       "                                         description  \\\n",
       "0  Honey Singh shares his battles with mental hea...   \n",
       "1  Brb taking notes on how to lie like a pro 👀\\r\\...   \n",
       "2  India ki sabse khatarnaak jail mein, ek naya j...   \n",
       "3  In the aftermath of the robot war, the only pa...   \n",
       "4  In the aftermath of the robot war, the only pa...   \n",
       "\n",
       "                                                tags           publishedAt  \\\n",
       "0  ['angreji beat', 'dope shope', 'honey singh', ...  2024-12-20T08:00:00Z   \n",
       "1  ['aditya seal', 'akshay kumar', 'akshay kumar ...  2024-12-19T12:30:00Z   \n",
       "2  ['netflix india', 'netflix', 'netflix shows', ...  2024-12-19T05:30:10Z   \n",
       "3  ['AGBO', 'Action', 'Adventure', 'Anthony Russo...  2024-12-18T14:30:00Z   \n",
       "4  ['AGBO', 'Netflix', 'Netflix पर क्या देखना चाह...  2024-12-18T13:30:05Z   \n",
       "\n",
       "                                          thumbnails liveBroadcastContent  \\\n",
       "0  {'default': {'url': 'https://i.ytimg.com/vi/KQ...                 none   \n",
       "1  {'default': {'url': 'https://i.ytimg.com/vi/bO...                 none   \n",
       "2  {'default': {'url': 'https://i.ytimg.com/vi/GR...                 none   \n",
       "3  {'default': {'url': 'https://i.ytimg.com/vi/b0...                 none   \n",
       "4  {'default': {'url': 'https://i.ytimg.com/vi/QC...                 none   \n",
       "\n",
       "   viewCount  likeCount  commentCount  duration  \n",
       "0      52864     7111.0         394.0  1.183333  \n",
       "1      44300      642.0          30.0  3.033333  \n",
       "2     201087     3300.0         101.0  1.250000  \n",
       "3      19642      354.0          25.0  1.733333  \n",
       "4     117292     3455.0         130.0  1.683333  "
      ]
     },
     "execution_count": 6,
     "metadata": {},
     "output_type": "execute_result"
    }
   ],
   "source": [
    "df.head()\n"
   ]
  },
  {
   "cell_type": "code",
   "execution_count": 7,
   "id": "d9c6b6fd-a9ea-4dbd-a647-067ec4087e5d",
   "metadata": {},
   "outputs": [],
   "source": [
    "df.rename(columns={'duration': 'duration_in_min'}, inplace=True)\n"
   ]
  },
  {
   "cell_type": "code",
   "execution_count": 8,
   "id": "4ed112e9-e3f4-4282-9740-3272bb3cb0b1",
   "metadata": {},
   "outputs": [
    {
     "data": {
      "text/html": [
       "<div>\n",
       "<style scoped>\n",
       "    .dataframe tbody tr th:only-of-type {\n",
       "        vertical-align: middle;\n",
       "    }\n",
       "\n",
       "    .dataframe tbody tr th {\n",
       "        vertical-align: top;\n",
       "    }\n",
       "\n",
       "    .dataframe thead th {\n",
       "        text-align: right;\n",
       "    }\n",
       "</style>\n",
       "<table border=\"1\" class=\"dataframe\">\n",
       "  <thead>\n",
       "    <tr style=\"text-align: right;\">\n",
       "      <th></th>\n",
       "      <th>video_id</th>\n",
       "      <th>title</th>\n",
       "      <th>description</th>\n",
       "      <th>tags</th>\n",
       "      <th>publishedAt</th>\n",
       "      <th>thumbnails</th>\n",
       "      <th>liveBroadcastContent</th>\n",
       "      <th>viewCount</th>\n",
       "      <th>likeCount</th>\n",
       "      <th>commentCount</th>\n",
       "      <th>duration_in_min</th>\n",
       "    </tr>\n",
       "  </thead>\n",
       "  <tbody>\n",
       "    <tr>\n",
       "      <th>0</th>\n",
       "      <td>KQ2a4uawQBo</td>\n",
       "      <td>Meet THE REAL Honey Singh | Yo Yo Honey Singh:...</td>\n",
       "      <td>Honey Singh shares his battles with mental hea...</td>\n",
       "      <td>['angreji beat', 'dope shope', 'honey singh', ...</td>\n",
       "      <td>2024-12-20T08:00:00Z</td>\n",
       "      <td>{'default': {'url': 'https://i.ytimg.com/vi/KQ...</td>\n",
       "      <td>none</td>\n",
       "      <td>52864</td>\n",
       "      <td>7111.0</td>\n",
       "      <td>394.0</td>\n",
       "      <td>1.183333</td>\n",
       "    </tr>\n",
       "    <tr>\n",
       "      <th>1</th>\n",
       "      <td>bOR7S0j_wq8</td>\n",
       "      <td>⁠Akshay Kumar ALMOST Gets Caught Cheating! 👀 f...</td>\n",
       "      <td>Brb taking notes on how to lie like a pro 👀\\r\\...</td>\n",
       "      <td>['aditya seal', 'akshay kumar', 'akshay kumar ...</td>\n",
       "      <td>2024-12-19T12:30:00Z</td>\n",
       "      <td>{'default': {'url': 'https://i.ytimg.com/vi/bO...</td>\n",
       "      <td>none</td>\n",
       "      <td>44300</td>\n",
       "      <td>642.0</td>\n",
       "      <td>30.0</td>\n",
       "      <td>3.033333</td>\n",
       "    </tr>\n",
       "    <tr>\n",
       "      <th>2</th>\n",
       "      <td>GRM8Q-1fVJ0</td>\n",
       "      <td>Black Warrant | Official Teaser | Vikramaditya...</td>\n",
       "      <td>India ki sabse khatarnaak jail mein, ek naya j...</td>\n",
       "      <td>['netflix india', 'netflix', 'netflix shows', ...</td>\n",
       "      <td>2024-12-19T05:30:10Z</td>\n",
       "      <td>{'default': {'url': 'https://i.ytimg.com/vi/GR...</td>\n",
       "      <td>none</td>\n",
       "      <td>201087</td>\n",
       "      <td>3300.0</td>\n",
       "      <td>101.0</td>\n",
       "      <td>1.250000</td>\n",
       "    </tr>\n",
       "    <tr>\n",
       "      <th>3</th>\n",
       "      <td>b0b8WBglCHo</td>\n",
       "      <td>The Electric State | Official Trailer | Netfli...</td>\n",
       "      <td>In the aftermath of the robot war, the only pa...</td>\n",
       "      <td>['AGBO', 'Action', 'Adventure', 'Anthony Russo...</td>\n",
       "      <td>2024-12-18T14:30:00Z</td>\n",
       "      <td>{'default': {'url': 'https://i.ytimg.com/vi/b0...</td>\n",
       "      <td>none</td>\n",
       "      <td>19642</td>\n",
       "      <td>354.0</td>\n",
       "      <td>25.0</td>\n",
       "      <td>1.733333</td>\n",
       "    </tr>\n",
       "    <tr>\n",
       "      <th>4</th>\n",
       "      <td>QCPOl_7cdnQ</td>\n",
       "      <td>The Electric State | Official Trailer | Hindi ...</td>\n",
       "      <td>In the aftermath of the robot war, the only pa...</td>\n",
       "      <td>['AGBO', 'Netflix', 'Netflix पर क्या देखना चाह...</td>\n",
       "      <td>2024-12-18T13:30:05Z</td>\n",
       "      <td>{'default': {'url': 'https://i.ytimg.com/vi/QC...</td>\n",
       "      <td>none</td>\n",
       "      <td>117292</td>\n",
       "      <td>3455.0</td>\n",
       "      <td>130.0</td>\n",
       "      <td>1.683333</td>\n",
       "    </tr>\n",
       "  </tbody>\n",
       "</table>\n",
       "</div>"
      ],
      "text/plain": [
       "      video_id                                              title  \\\n",
       "0  KQ2a4uawQBo  Meet THE REAL Honey Singh | Yo Yo Honey Singh:...   \n",
       "1  bOR7S0j_wq8  ⁠Akshay Kumar ALMOST Gets Caught Cheating! 👀 f...   \n",
       "2  GRM8Q-1fVJ0  Black Warrant | Official Teaser | Vikramaditya...   \n",
       "3  b0b8WBglCHo  The Electric State | Official Trailer | Netfli...   \n",
       "4  QCPOl_7cdnQ  The Electric State | Official Trailer | Hindi ...   \n",
       "\n",
       "                                         description  \\\n",
       "0  Honey Singh shares his battles with mental hea...   \n",
       "1  Brb taking notes on how to lie like a pro 👀\\r\\...   \n",
       "2  India ki sabse khatarnaak jail mein, ek naya j...   \n",
       "3  In the aftermath of the robot war, the only pa...   \n",
       "4  In the aftermath of the robot war, the only pa...   \n",
       "\n",
       "                                                tags           publishedAt  \\\n",
       "0  ['angreji beat', 'dope shope', 'honey singh', ...  2024-12-20T08:00:00Z   \n",
       "1  ['aditya seal', 'akshay kumar', 'akshay kumar ...  2024-12-19T12:30:00Z   \n",
       "2  ['netflix india', 'netflix', 'netflix shows', ...  2024-12-19T05:30:10Z   \n",
       "3  ['AGBO', 'Action', 'Adventure', 'Anthony Russo...  2024-12-18T14:30:00Z   \n",
       "4  ['AGBO', 'Netflix', 'Netflix पर क्या देखना चाह...  2024-12-18T13:30:05Z   \n",
       "\n",
       "                                          thumbnails liveBroadcastContent  \\\n",
       "0  {'default': {'url': 'https://i.ytimg.com/vi/KQ...                 none   \n",
       "1  {'default': {'url': 'https://i.ytimg.com/vi/bO...                 none   \n",
       "2  {'default': {'url': 'https://i.ytimg.com/vi/GR...                 none   \n",
       "3  {'default': {'url': 'https://i.ytimg.com/vi/b0...                 none   \n",
       "4  {'default': {'url': 'https://i.ytimg.com/vi/QC...                 none   \n",
       "\n",
       "   viewCount  likeCount  commentCount  duration_in_min  \n",
       "0      52864     7111.0         394.0         1.183333  \n",
       "1      44300      642.0          30.0         3.033333  \n",
       "2     201087     3300.0         101.0         1.250000  \n",
       "3      19642      354.0          25.0         1.733333  \n",
       "4     117292     3455.0         130.0         1.683333  "
      ]
     },
     "execution_count": 8,
     "metadata": {},
     "output_type": "execute_result"
    }
   ],
   "source": [
    "df.head()"
   ]
  },
  {
   "cell_type": "code",
   "execution_count": 9,
   "id": "7d3cd5bd-b73c-447b-976a-909a3d0d813a",
   "metadata": {},
   "outputs": [
    {
     "data": {
      "text/plain": [
       "0       ['angreji beat', 'dope shope', 'honey singh', ...\n",
       "1       ['aditya seal', 'akshay kumar', 'akshay kumar ...\n",
       "2       ['netflix india', 'netflix', 'netflix shows', ...\n",
       "3       ['AGBO', 'Action', 'Adventure', 'Anthony Russo...\n",
       "4       ['AGBO', 'Netflix', 'Netflix पर क्या देखना चाह...\n",
       "                              ...                        \n",
       "5193    ['Netflix', 'Video', 'Fun', 'Humour', 'Brahman...\n",
       "5194    ['Netflix', 'Netflix originals', 'Movies', 'Bo...\n",
       "5195    ['Netflix', 'Watching Netflix', 'Online Videos...\n",
       "5196    ['Netflix', 'Brahman Naman', 'David Attenborou...\n",
       "5197    ['Netflix', 'Netflix Original Film', 'Qaushiq ...\n",
       "Name: tags, Length: 5198, dtype: object"
      ]
     },
     "execution_count": 9,
     "metadata": {},
     "output_type": "execute_result"
    }
   ],
   "source": [
    "df['tags']"
   ]
  },
  {
   "cell_type": "code",
   "execution_count": 10,
   "id": "c51c6c32-fd37-4d7d-8cca-e91bb3cda23a",
   "metadata": {},
   "outputs": [],
   "source": [
    "def count_tags(tag_str):\n",
    "    if isinstance(tag_str, str):  # Check if the value is a string\n",
    "        return len(tag_str.split(','))  # Split and count tags\n",
    "    else:\n",
    "        return 0  # Return 0 for missing or non-string values\n",
    "\n",
    "# Apply the function to the tags column\n",
    "df['TagsCount'] = df['tags'].apply(count_tags)"
   ]
  },
  {
   "cell_type": "code",
   "execution_count": 11,
   "id": "20a2e3c2-b508-49fa-a2c4-58e0894f0d78",
   "metadata": {
    "scrolled": true
   },
   "outputs": [
    {
     "data": {
      "text/html": [
       "<div>\n",
       "<style scoped>\n",
       "    .dataframe tbody tr th:only-of-type {\n",
       "        vertical-align: middle;\n",
       "    }\n",
       "\n",
       "    .dataframe tbody tr th {\n",
       "        vertical-align: top;\n",
       "    }\n",
       "\n",
       "    .dataframe thead th {\n",
       "        text-align: right;\n",
       "    }\n",
       "</style>\n",
       "<table border=\"1\" class=\"dataframe\">\n",
       "  <thead>\n",
       "    <tr style=\"text-align: right;\">\n",
       "      <th></th>\n",
       "      <th>video_id</th>\n",
       "      <th>title</th>\n",
       "      <th>description</th>\n",
       "      <th>tags</th>\n",
       "      <th>publishedAt</th>\n",
       "      <th>thumbnails</th>\n",
       "      <th>liveBroadcastContent</th>\n",
       "      <th>viewCount</th>\n",
       "      <th>likeCount</th>\n",
       "      <th>commentCount</th>\n",
       "      <th>duration_in_min</th>\n",
       "      <th>TagsCount</th>\n",
       "    </tr>\n",
       "  </thead>\n",
       "  <tbody>\n",
       "    <tr>\n",
       "      <th>0</th>\n",
       "      <td>KQ2a4uawQBo</td>\n",
       "      <td>Meet THE REAL Honey Singh | Yo Yo Honey Singh:...</td>\n",
       "      <td>Honey Singh shares his battles with mental hea...</td>\n",
       "      <td>['angreji beat', 'dope shope', 'honey singh', ...</td>\n",
       "      <td>2024-12-20T08:00:00Z</td>\n",
       "      <td>{'default': {'url': 'https://i.ytimg.com/vi/KQ...</td>\n",
       "      <td>none</td>\n",
       "      <td>52864</td>\n",
       "      <td>7111.0</td>\n",
       "      <td>394.0</td>\n",
       "      <td>1.183333</td>\n",
       "      <td>19</td>\n",
       "    </tr>\n",
       "    <tr>\n",
       "      <th>1</th>\n",
       "      <td>bOR7S0j_wq8</td>\n",
       "      <td>⁠Akshay Kumar ALMOST Gets Caught Cheating! 👀 f...</td>\n",
       "      <td>Brb taking notes on how to lie like a pro 👀\\r\\...</td>\n",
       "      <td>['aditya seal', 'akshay kumar', 'akshay kumar ...</td>\n",
       "      <td>2024-12-19T12:30:00Z</td>\n",
       "      <td>{'default': {'url': 'https://i.ytimg.com/vi/bO...</td>\n",
       "      <td>none</td>\n",
       "      <td>44300</td>\n",
       "      <td>642.0</td>\n",
       "      <td>30.0</td>\n",
       "      <td>3.033333</td>\n",
       "      <td>23</td>\n",
       "    </tr>\n",
       "    <tr>\n",
       "      <th>2</th>\n",
       "      <td>GRM8Q-1fVJ0</td>\n",
       "      <td>Black Warrant | Official Teaser | Vikramaditya...</td>\n",
       "      <td>India ki sabse khatarnaak jail mein, ek naya j...</td>\n",
       "      <td>['netflix india', 'netflix', 'netflix shows', ...</td>\n",
       "      <td>2024-12-19T05:30:10Z</td>\n",
       "      <td>{'default': {'url': 'https://i.ytimg.com/vi/GR...</td>\n",
       "      <td>none</td>\n",
       "      <td>201087</td>\n",
       "      <td>3300.0</td>\n",
       "      <td>101.0</td>\n",
       "      <td>1.250000</td>\n",
       "      <td>30</td>\n",
       "    </tr>\n",
       "    <tr>\n",
       "      <th>3</th>\n",
       "      <td>b0b8WBglCHo</td>\n",
       "      <td>The Electric State | Official Trailer | Netfli...</td>\n",
       "      <td>In the aftermath of the robot war, the only pa...</td>\n",
       "      <td>['AGBO', 'Action', 'Adventure', 'Anthony Russo...</td>\n",
       "      <td>2024-12-18T14:30:00Z</td>\n",
       "      <td>{'default': {'url': 'https://i.ytimg.com/vi/b0...</td>\n",
       "      <td>none</td>\n",
       "      <td>19642</td>\n",
       "      <td>354.0</td>\n",
       "      <td>25.0</td>\n",
       "      <td>1.733333</td>\n",
       "      <td>20</td>\n",
       "    </tr>\n",
       "    <tr>\n",
       "      <th>4</th>\n",
       "      <td>QCPOl_7cdnQ</td>\n",
       "      <td>The Electric State | Official Trailer | Hindi ...</td>\n",
       "      <td>In the aftermath of the robot war, the only pa...</td>\n",
       "      <td>['AGBO', 'Netflix', 'Netflix पर क्या देखना चाह...</td>\n",
       "      <td>2024-12-18T13:30:05Z</td>\n",
       "      <td>{'default': {'url': 'https://i.ytimg.com/vi/QC...</td>\n",
       "      <td>none</td>\n",
       "      <td>117292</td>\n",
       "      <td>3455.0</td>\n",
       "      <td>130.0</td>\n",
       "      <td>1.683333</td>\n",
       "      <td>20</td>\n",
       "    </tr>\n",
       "  </tbody>\n",
       "</table>\n",
       "</div>"
      ],
      "text/plain": [
       "      video_id                                              title  \\\n",
       "0  KQ2a4uawQBo  Meet THE REAL Honey Singh | Yo Yo Honey Singh:...   \n",
       "1  bOR7S0j_wq8  ⁠Akshay Kumar ALMOST Gets Caught Cheating! 👀 f...   \n",
       "2  GRM8Q-1fVJ0  Black Warrant | Official Teaser | Vikramaditya...   \n",
       "3  b0b8WBglCHo  The Electric State | Official Trailer | Netfli...   \n",
       "4  QCPOl_7cdnQ  The Electric State | Official Trailer | Hindi ...   \n",
       "\n",
       "                                         description  \\\n",
       "0  Honey Singh shares his battles with mental hea...   \n",
       "1  Brb taking notes on how to lie like a pro 👀\\r\\...   \n",
       "2  India ki sabse khatarnaak jail mein, ek naya j...   \n",
       "3  In the aftermath of the robot war, the only pa...   \n",
       "4  In the aftermath of the robot war, the only pa...   \n",
       "\n",
       "                                                tags           publishedAt  \\\n",
       "0  ['angreji beat', 'dope shope', 'honey singh', ...  2024-12-20T08:00:00Z   \n",
       "1  ['aditya seal', 'akshay kumar', 'akshay kumar ...  2024-12-19T12:30:00Z   \n",
       "2  ['netflix india', 'netflix', 'netflix shows', ...  2024-12-19T05:30:10Z   \n",
       "3  ['AGBO', 'Action', 'Adventure', 'Anthony Russo...  2024-12-18T14:30:00Z   \n",
       "4  ['AGBO', 'Netflix', 'Netflix पर क्या देखना चाह...  2024-12-18T13:30:05Z   \n",
       "\n",
       "                                          thumbnails liveBroadcastContent  \\\n",
       "0  {'default': {'url': 'https://i.ytimg.com/vi/KQ...                 none   \n",
       "1  {'default': {'url': 'https://i.ytimg.com/vi/bO...                 none   \n",
       "2  {'default': {'url': 'https://i.ytimg.com/vi/GR...                 none   \n",
       "3  {'default': {'url': 'https://i.ytimg.com/vi/b0...                 none   \n",
       "4  {'default': {'url': 'https://i.ytimg.com/vi/QC...                 none   \n",
       "\n",
       "   viewCount  likeCount  commentCount  duration_in_min  TagsCount  \n",
       "0      52864     7111.0         394.0         1.183333         19  \n",
       "1      44300      642.0          30.0         3.033333         23  \n",
       "2     201087     3300.0         101.0         1.250000         30  \n",
       "3      19642      354.0          25.0         1.733333         20  \n",
       "4     117292     3455.0         130.0         1.683333         20  "
      ]
     },
     "execution_count": 11,
     "metadata": {},
     "output_type": "execute_result"
    }
   ],
   "source": [
    "df.head()\n"
   ]
  },
  {
   "cell_type": "code",
   "execution_count": 12,
   "id": "b6b2c1fc-9bc2-4ee8-a94f-07e190f8da15",
   "metadata": {},
   "outputs": [
    {
     "data": {
      "text/plain": [
       "np.float64(4.525548287803001)"
      ]
     },
     "execution_count": 12,
     "metadata": {},
     "output_type": "execute_result"
    }
   ],
   "source": [
    "df['duration_in_min'].mean()"
   ]
  },
  {
   "cell_type": "code",
   "execution_count": 13,
   "id": "13e87f6f-0981-40d1-8e6a-e19ed4e43340",
   "metadata": {},
   "outputs": [],
   "source": [
    "df['Category'] = df['duration_in_min'].apply(lambda x: 'short' if x <= 5 else 'long')"
   ]
  },
  {
   "cell_type": "code",
   "execution_count": 14,
   "id": "e18b18d4-e4d1-476d-9601-81102e972965",
   "metadata": {},
   "outputs": [
    {
     "data": {
      "text/plain": [
       "Category\n",
       "short    4296\n",
       "long      902\n",
       "Name: count, dtype: int64"
      ]
     },
     "execution_count": 14,
     "metadata": {},
     "output_type": "execute_result"
    }
   ],
   "source": [
    "df['Category'].value_counts()"
   ]
  },
  {
   "cell_type": "markdown",
   "id": "a428205e-148e-4d4c-b94d-013d99262863",
   "metadata": {},
   "source": [
    "#***Insights***"
   ]
  },
  {
   "cell_type": "markdown",
   "id": "36044177-239a-4237-9358-4ca5f60e4f5f",
   "metadata": {},
   "source": [
    "##**Does the duration of the video influence the views and comments?**"
   ]
  },
  {
   "cell_type": "code",
   "execution_count": 15,
   "id": "098668c6-0a1b-4d9d-a55c-eb6ff1d93be5",
   "metadata": {},
   "outputs": [
    {
     "data": {
      "text/html": [
       "<div>\n",
       "<style scoped>\n",
       "    .dataframe tbody tr th:only-of-type {\n",
       "        vertical-align: middle;\n",
       "    }\n",
       "\n",
       "    .dataframe tbody tr th {\n",
       "        vertical-align: top;\n",
       "    }\n",
       "\n",
       "    .dataframe thead tr th {\n",
       "        text-align: left;\n",
       "    }\n",
       "\n",
       "    .dataframe thead tr:last-of-type th {\n",
       "        text-align: right;\n",
       "    }\n",
       "</style>\n",
       "<table border=\"1\" class=\"dataframe\">\n",
       "  <thead>\n",
       "    <tr>\n",
       "      <th></th>\n",
       "      <th colspan=\"8\" halign=\"left\">viewCount</th>\n",
       "      <th colspan=\"8\" halign=\"left\">likeCount</th>\n",
       "    </tr>\n",
       "    <tr>\n",
       "      <th></th>\n",
       "      <th>count</th>\n",
       "      <th>mean</th>\n",
       "      <th>std</th>\n",
       "      <th>min</th>\n",
       "      <th>25%</th>\n",
       "      <th>50%</th>\n",
       "      <th>75%</th>\n",
       "      <th>max</th>\n",
       "      <th>count</th>\n",
       "      <th>mean</th>\n",
       "      <th>std</th>\n",
       "      <th>min</th>\n",
       "      <th>25%</th>\n",
       "      <th>50%</th>\n",
       "      <th>75%</th>\n",
       "      <th>max</th>\n",
       "    </tr>\n",
       "    <tr>\n",
       "      <th>Category</th>\n",
       "      <th></th>\n",
       "      <th></th>\n",
       "      <th></th>\n",
       "      <th></th>\n",
       "      <th></th>\n",
       "      <th></th>\n",
       "      <th></th>\n",
       "      <th></th>\n",
       "      <th></th>\n",
       "      <th></th>\n",
       "      <th></th>\n",
       "      <th></th>\n",
       "      <th></th>\n",
       "      <th></th>\n",
       "      <th></th>\n",
       "      <th></th>\n",
       "    </tr>\n",
       "  </thead>\n",
       "  <tbody>\n",
       "    <tr>\n",
       "      <th>long</th>\n",
       "      <td>902.0</td>\n",
       "      <td>1.442393e+06</td>\n",
       "      <td>3.615854e+06</td>\n",
       "      <td>7410.0</td>\n",
       "      <td>185109.25</td>\n",
       "      <td>547812.0</td>\n",
       "      <td>1304208.50</td>\n",
       "      <td>53451135.0</td>\n",
       "      <td>902.0</td>\n",
       "      <td>44974.437916</td>\n",
       "      <td>108040.056510</td>\n",
       "      <td>130.0</td>\n",
       "      <td>4789.5</td>\n",
       "      <td>16474.5</td>\n",
       "      <td>38893.5</td>\n",
       "      <td>1387709.0</td>\n",
       "    </tr>\n",
       "    <tr>\n",
       "      <th>short</th>\n",
       "      <td>4296.0</td>\n",
       "      <td>2.304233e+06</td>\n",
       "      <td>1.966975e+07</td>\n",
       "      <td>0.0</td>\n",
       "      <td>51861.25</td>\n",
       "      <td>176339.0</td>\n",
       "      <td>828538.75</td>\n",
       "      <td>888330690.0</td>\n",
       "      <td>4295.0</td>\n",
       "      <td>22446.949942</td>\n",
       "      <td>89566.015137</td>\n",
       "      <td>12.0</td>\n",
       "      <td>1053.0</td>\n",
       "      <td>3435.0</td>\n",
       "      <td>14273.5</td>\n",
       "      <td>3192608.0</td>\n",
       "    </tr>\n",
       "  </tbody>\n",
       "</table>\n",
       "</div>"
      ],
      "text/plain": [
       "         viewCount                                                           \\\n",
       "             count          mean           std     min        25%       50%   \n",
       "Category                                                                      \n",
       "long         902.0  1.442393e+06  3.615854e+06  7410.0  185109.25  547812.0   \n",
       "short       4296.0  2.304233e+06  1.966975e+07     0.0   51861.25  176339.0   \n",
       "\n",
       "                                  likeCount                               \\\n",
       "                 75%          max     count          mean            std   \n",
       "Category                                                                   \n",
       "long      1304208.50   53451135.0     902.0  44974.437916  108040.056510   \n",
       "short      828538.75  888330690.0    4295.0  22446.949942   89566.015137   \n",
       "\n",
       "                                                      \n",
       "            min     25%      50%      75%        max  \n",
       "Category                                              \n",
       "long      130.0  4789.5  16474.5  38893.5  1387709.0  \n",
       "short      12.0  1053.0   3435.0  14273.5  3192608.0  "
      ]
     },
     "execution_count": 15,
     "metadata": {},
     "output_type": "execute_result"
    }
   ],
   "source": [
    "category_videos = df.groupby('Category')[['viewCount','likeCount']].describe()\n",
    "category_videos"
   ]
  },
  {
   "cell_type": "markdown",
   "id": "8b0108aa-39d2-4541-a8e9-75c787a72f38",
   "metadata": {},
   "source": [
    "##**Is there a relation between the views and comments? **"
   ]
  },
  {
   "cell_type": "code",
   "execution_count": 16,
   "id": "382a3367-aadb-4293-b267-cf5ad701e122",
   "metadata": {},
   "outputs": [
    {
     "name": "stdout",
     "output_type": "stream",
     "text": [
      "              viewCount  commentCount\n",
      "viewCount      1.000000      0.142861\n",
      "commentCount   0.142861      1.000000\n"
     ]
    }
   ],
   "source": [
    "correlation = df[['viewCount','commentCount']].corr()\n",
    "\n",
    "print(correlation)"
   ]
  },
  {
   "cell_type": "code",
   "execution_count": 18,
   "id": "ca2e3363-7703-46e0-b59c-f91028cff8b1",
   "metadata": {},
   "outputs": [
    {
     "data": {
      "image/png": "[encoded data removed]",
      "text/plain": [
       "<Figure size 640x480 with 1 Axes>"
      ]
     },
     "metadata": {},
     "output_type": "display_data"
    }
   ],
   "source": [
    "import seaborn as sns\n",
    "import matplotlib.pyplot as plt\n",
    "\n",
    "# Scatter plot for views vs. comments\n",
    "sns.lineplot(x='viewCount', y='commentCount', data=df, marker='o') \n",
    "plt.title('Views vs Comments')\n",
    "plt.xlabel('Views')\n",
    "plt.ylabel('Comments')\n",
    "plt.show()\n"
   ]
  },
  {
   "cell_type": "markdown",
   "id": "cc717b89-6720-4553-b2aa-8a06b212cc7b",
   "metadata": {},
   "source": [
    "##__Does tag count matter to get more views?__"
   ]
  },
  {
   "cell_type": "code",
   "execution_count": 20,
   "id": "e1752f13-7596-45d3-b490-5f5b53ec35b8",
   "metadata": {},
   "outputs": [
    {
     "name": "stdout",
     "output_type": "stream",
     "text": [
      "           viewCount  TagsCount\n",
      "viewCount   1.000000   0.007305\n",
      "TagsCount   0.007305   1.000000\n"
     ]
    },
    {
     "data": {
      "image/png": "[encoded data removed]",
      "text/plain": [
       "<Figure size 640x480 with 1 Axes>"
      ]
     },
     "metadata": {},
     "output_type": "display_data"
    }
   ],
   "source": [
    "correlation_vc = df[['viewCount','TagsCount']].corr()\n",
    "\n",
    "print(correlation_vc)\n",
    "\n",
    "sns.lineplot(x='viewCount', y='TagsCount', data=df, marker='o') \n",
    "plt.title('Views vs Tags')\n",
    "plt.xlabel('Views')\n",
    "plt.ylabel('tags')\n",
    "plt.show()"
   ]
  },
  {
   "cell_type": "code",
   "execution_count": 24,
   "id": "e8d6c58d-dd26-4c40-9dfe-ac295a09c481",
   "metadata": {},
   "outputs": [
    {
     "data": {
      "text/plain": [
       "np.int64(888330690)"
      ]
     },
     "execution_count": 24,
     "metadata": {},
     "output_type": "execute_result"
    }
   ],
   "source": [
    "df['viewCount'].max()"
   ]
  },
  {
   "cell_type": "code",
   "execution_count": 25,
   "id": "50def461-6fb3-470b-b5f3-9bff8725c94d",
   "metadata": {},
   "outputs": [
    {
     "data": {
      "text/html": [
       "<div>\n",
       "<style scoped>\n",
       "    .dataframe tbody tr th:only-of-type {\n",
       "        vertical-align: middle;\n",
       "    }\n",
       "\n",
       "    .dataframe tbody tr th {\n",
       "        vertical-align: top;\n",
       "    }\n",
       "\n",
       "    .dataframe thead th {\n",
       "        text-align: right;\n",
       "    }\n",
       "</style>\n",
       "<table border=\"1\" class=\"dataframe\">\n",
       "  <thead>\n",
       "    <tr style=\"text-align: right;\">\n",
       "      <th></th>\n",
       "      <th>video_id</th>\n",
       "      <th>title</th>\n",
       "      <th>description</th>\n",
       "      <th>tags</th>\n",
       "      <th>publishedAt</th>\n",
       "      <th>thumbnails</th>\n",
       "      <th>liveBroadcastContent</th>\n",
       "      <th>viewCount</th>\n",
       "      <th>likeCount</th>\n",
       "      <th>commentCount</th>\n",
       "      <th>duration_in_min</th>\n",
       "      <th>TagsCount</th>\n",
       "      <th>Category</th>\n",
       "    </tr>\n",
       "  </thead>\n",
       "  <tbody>\n",
       "    <tr>\n",
       "      <th>0</th>\n",
       "      <td>KQ2a4uawQBo</td>\n",
       "      <td>Meet THE REAL Honey Singh | Yo Yo Honey Singh:...</td>\n",
       "      <td>Honey Singh shares his battles with mental hea...</td>\n",
       "      <td>['angreji beat', 'dope shope', 'honey singh', ...</td>\n",
       "      <td>2024-12-20T08:00:00Z</td>\n",
       "      <td>{'default': {'url': 'https://i.ytimg.com/vi/KQ...</td>\n",
       "      <td>none</td>\n",
       "      <td>52864</td>\n",
       "      <td>7111.0</td>\n",
       "      <td>394.0</td>\n",
       "      <td>1.183333</td>\n",
       "      <td>19</td>\n",
       "      <td>short</td>\n",
       "    </tr>\n",
       "    <tr>\n",
       "      <th>1</th>\n",
       "      <td>bOR7S0j_wq8</td>\n",
       "      <td>⁠Akshay Kumar ALMOST Gets Caught Cheating! 👀 f...</td>\n",
       "      <td>Brb taking notes on how to lie like a pro 👀\\r\\...</td>\n",
       "      <td>['aditya seal', 'akshay kumar', 'akshay kumar ...</td>\n",
       "      <td>2024-12-19T12:30:00Z</td>\n",
       "      <td>{'default': {'url': 'https://i.ytimg.com/vi/bO...</td>\n",
       "      <td>none</td>\n",
       "      <td>44300</td>\n",
       "      <td>642.0</td>\n",
       "      <td>30.0</td>\n",
       "      <td>3.033333</td>\n",
       "      <td>23</td>\n",
       "      <td>short</td>\n",
       "    </tr>\n",
       "    <tr>\n",
       "      <th>2</th>\n",
       "      <td>GRM8Q-1fVJ0</td>\n",
       "      <td>Black Warrant | Official Teaser | Vikramaditya...</td>\n",
       "      <td>India ki sabse khatarnaak jail mein, ek naya j...</td>\n",
       "      <td>['netflix india', 'netflix', 'netflix shows', ...</td>\n",
       "      <td>2024-12-19T05:30:10Z</td>\n",
       "      <td>{'default': {'url': 'https://i.ytimg.com/vi/GR...</td>\n",
       "      <td>none</td>\n",
       "      <td>201087</td>\n",
       "      <td>3300.0</td>\n",
       "      <td>101.0</td>\n",
       "      <td>1.250000</td>\n",
       "      <td>30</td>\n",
       "      <td>short</td>\n",
       "    </tr>\n",
       "  </tbody>\n",
       "</table>\n",
       "</div>"
      ],
      "text/plain": [
       "      video_id                                              title  \\\n",
       "0  KQ2a4uawQBo  Meet THE REAL Honey Singh | Yo Yo Honey Singh:...   \n",
       "1  bOR7S0j_wq8  ⁠Akshay Kumar ALMOST Gets Caught Cheating! 👀 f...   \n",
       "2  GRM8Q-1fVJ0  Black Warrant | Official Teaser | Vikramaditya...   \n",
       "\n",
       "                                         description  \\\n",
       "0  Honey Singh shares his battles with mental hea...   \n",
       "1  Brb taking notes on how to lie like a pro 👀\\r\\...   \n",
       "2  India ki sabse khatarnaak jail mein, ek naya j...   \n",
       "\n",
       "                                                tags           publishedAt  \\\n",
       "0  ['angreji beat', 'dope shope', 'honey singh', ...  2024-12-20T08:00:00Z   \n",
       "1  ['aditya seal', 'akshay kumar', 'akshay kumar ...  2024-12-19T12:30:00Z   \n",
       "2  ['netflix india', 'netflix', 'netflix shows', ...  2024-12-19T05:30:10Z   \n",
       "\n",
       "                                          thumbnails liveBroadcastContent  \\\n",
       "0  {'default': {'url': 'https://i.ytimg.com/vi/KQ...                 none   \n",
       "1  {'default': {'url': 'https://i.ytimg.com/vi/bO...                 none   \n",
       "2  {'default': {'url': 'https://i.ytimg.com/vi/GR...                 none   \n",
       "\n",
       "   viewCount  likeCount  commentCount  duration_in_min  TagsCount Category  \n",
       "0      52864     7111.0         394.0         1.183333         19    short  \n",
       "1      44300      642.0          30.0         3.033333         23    short  \n",
       "2     201087     3300.0         101.0         1.250000         30    short  "
      ]
     },
     "execution_count": 25,
     "metadata": {},
     "output_type": "execute_result"
    }
   ],
   "source": [
    "df.head(3)"
   ]
  },
  {
   "cell_type": "code",
   "execution_count": 63,
   "id": "a78b6ce5-9d9a-4fe3-a9b3-aa65f0031c72",
   "metadata": {},
   "outputs": [],
   "source": [
    "df['publishedAt'] = pd.to_datetime(df['publishedAt'])\n",
    "df['published_date'] = df['publishedAt'].dt.date\n",
    "#df['published_time_12hr'] = df['publishedAt'].dt.strftime('%I:%M:%S %p')\n",
    "df['published_day'] = df['publishedAt'].dt.day_name()"
   ]
  },
  {
   "cell_type": "code",
   "execution_count": 67,
   "id": "925eafe3-0715-430e-8e7d-ac54dc951398",
   "metadata": {},
   "outputs": [],
   "source": [
    "df.drop('published_time_12hr', axis=1, inplace=True)"
   ]
  },
  {
   "cell_type": "code",
   "execution_count": 69,
   "id": "3c9dcebd-681c-42ea-ab65-e1b2b75dcd6d",
   "metadata": {},
   "outputs": [
    {
     "data": {
      "text/plain": [
       "Index(['video_id', 'title', 'description', 'tags', 'publishedAt', 'thumbnails',\n",
       "       'liveBroadcastContent', 'viewCount', 'likeCount', 'commentCount',\n",
       "       'duration_in_min', 'TagsCount', 'Category', 'published_date',\n",
       "       'published_day', 'published_time', 'adjusted_hour'],\n",
       "      dtype='object')"
      ]
     },
     "execution_count": 69,
     "metadata": {},
     "output_type": "execute_result"
    }
   ],
   "source": [
    "df.columns"
   ]
  },
  {
   "cell_type": "markdown",
   "id": "15a78c3a-4f2c-404f-8c56-0ba2c406fee2",
   "metadata": {},
   "source": [
    "##__Does video publishing day or time influence the engagement? __"
   ]
  },
  {
   "cell_type": "code",
   "execution_count": 72,
   "id": "f10a2367-b68c-4e28-a176-edc14193dfa1",
   "metadata": {},
   "outputs": [
    {
     "name": "stdout",
     "output_type": "stream",
     "text": [
      "               viewCount                                                  \\\n",
      "                   count          mean           std      min        25%   \n",
      "published_hour                                                             \n",
      "0                   12.0  9.651858e+04  2.433431e+05   4187.0   16913.75   \n",
      "1                   16.0  1.607713e+05  2.910475e+05   1538.0   21160.25   \n",
      "2                   18.0  5.864520e+06  2.179092e+07   1725.0   39541.25   \n",
      "3                   43.0  4.360972e+06  9.964129e+06  15229.0   91240.50   \n",
      "4                  163.0  4.547663e+06  1.483024e+07   3583.0  152780.50   \n",
      "5                  956.0  3.843762e+06  2.696749e+07   6960.0  108491.25   \n",
      "6                  446.0  1.649821e+06  4.756628e+06  10679.0   63530.75   \n",
      "7                  316.0  2.900560e+06  1.290114e+07   8765.0   56633.00   \n",
      "8                  290.0  1.189826e+06  3.917204e+06   8612.0   59840.25   \n",
      "9                  284.0  1.028494e+06  3.463710e+06  11052.0   55132.50   \n",
      "10                 526.0  1.272050e+06  6.133512e+06  11541.0   56740.50   \n",
      "11                 380.0  1.419045e+06  4.444385e+06   9006.0   71479.75   \n",
      "12                 434.0  1.781688e+06  6.766097e+06   5083.0   55957.50   \n",
      "13                 435.0  3.310983e+06  4.275279e+07      0.0   57270.50   \n",
      "14                 400.0  7.505873e+05  2.334667e+06   7874.0   44470.25   \n",
      "15                 272.0  9.156776e+05  4.669909e+06   3569.0   41740.25   \n",
      "16                  94.0  8.986846e+05  2.952197e+06   3331.0   52429.75   \n",
      "17                  29.0  1.007893e+06  3.288734e+06   7410.0   28109.00   \n",
      "18                  20.0  3.264103e+05  4.868711e+05   3636.0   21470.50   \n",
      "19                  18.0  3.136218e+05  5.265416e+05   4874.0   29891.00   \n",
      "20                  14.0  8.167736e+04  1.135792e+05   2182.0   14281.00   \n",
      "21                  11.0  3.355404e+06  1.050346e+07   2539.0   32366.50   \n",
      "22                  12.0  5.467656e+05  9.512528e+05  19829.0   33300.50   \n",
      "23                   9.0  6.234231e+06  1.772049e+07   8679.0   32861.00   \n",
      "\n",
      "                                                  commentCount               \\\n",
      "                     50%         75%          max        count         mean   \n",
      "published_hour                                                                \n",
      "0                30894.5    41207.50     867927.0         11.0   149.636364   \n",
      "1                46028.0   118256.75    1087648.0         16.0   189.062500   \n",
      "2               157137.5   693332.75   92975205.0         18.0   299.333333   \n",
      "3               725735.0  4444954.00   55917059.0         43.0  1573.534884   \n",
      "4               546072.0  2682032.00  164219558.0        163.0  1921.300613   \n",
      "5               477905.5  1891859.25  784558766.0        955.0  1031.455497   \n",
      "6               222330.0  1047175.75   47843026.0        446.0   605.515695   \n",
      "7               178710.0   867424.00  141015327.0        316.0   572.588608   \n",
      "8               151659.5   734234.00   47439958.0        290.0   363.431034   \n",
      "9               192516.0   767493.00   48021065.0        284.0   487.302817   \n",
      "10              216863.5   802406.25   96295439.0        526.0   438.771863   \n",
      "11              291940.5   992966.25   47658913.0        379.0   828.955145   \n",
      "12              233464.0   803532.25   84475171.0        433.0   614.762125   \n",
      "13              187845.0   792878.50  888330690.0        435.0   549.593103   \n",
      "14              133888.5   520054.75   28491812.0        400.0   350.402500   \n",
      "15              103281.0   318784.75   63238801.0        272.0   228.088235   \n",
      "16              108013.0   442752.50   21030321.0         94.0   314.446809   \n",
      "17               89046.0   274039.00   16939930.0         29.0   637.931034   \n",
      "18               82158.0   395080.00    1699381.0         20.0   382.800000   \n",
      "19               83034.0   210621.25    1817327.0         18.0   481.000000   \n",
      "20               39970.5    91581.75     398451.0         11.0    44.000000   \n",
      "21               59506.0   340993.50   35012900.0         11.0   239.090909   \n",
      "22               89016.5   494657.00    3159505.0         12.0   511.166667   \n",
      "23               63399.0   216829.00   53451135.0          9.0   242.333333   \n",
      "\n",
      "                                                                    \n",
      "                        std   min     25%    50%      75%      max  \n",
      "published_hour                                                      \n",
      "0                439.810930   3.0    4.50   17.0    34.50   1475.0  \n",
      "1                372.089858   2.0    5.75   28.5   139.75   1346.0  \n",
      "2                349.281110   4.0   41.00  142.0   519.00   1083.0  \n",
      "3               3283.038084   8.0  103.50  393.0  1312.50  15001.0  \n",
      "4               5906.552575   0.0  122.50  317.0  1158.50  59038.0  \n",
      "5               2570.513080   0.0   88.00  267.0   790.00  31173.0  \n",
      "6               1977.242696   0.0   36.00  121.0   427.75  23844.0  \n",
      "7               1209.642632   0.0   42.50  119.5   422.75   9164.0  \n",
      "8                803.132985   0.0   38.00  102.0   317.25   7039.0  \n",
      "9               1255.270258   0.0   39.50  113.5   377.75  11783.0  \n",
      "10              1310.614610   0.0   44.25  143.5   413.50  26302.0  \n",
      "11              2183.821103   0.0   63.50  200.0   665.50  29347.0  \n",
      "12              1600.184680   0.0   45.00  146.0   554.00  22258.0  \n",
      "13              1506.441136   0.0   42.00  126.0   422.00  21729.0  \n",
      "14               826.511812   0.0   30.00   85.5   304.25   9545.0  \n",
      "15               537.070267   0.0   23.00   59.0   183.00   5525.0  \n",
      "16               549.930369   0.0   26.25   94.0   344.75   3574.0  \n",
      "17              2041.867999   6.0   18.00   61.0   426.00  10994.0  \n",
      "18               659.274849   2.0   30.75  153.0   351.75   2824.0  \n",
      "19              1000.403389   4.0   19.00   26.0   381.50   3944.0  \n",
      "20                47.057412   3.0    6.00   26.0    68.50    137.0  \n",
      "21               421.397308   1.0   13.00   48.0   244.50   1387.0  \n",
      "22               764.713474  10.0   24.75   37.0   782.50   2074.0  \n",
      "23               488.817706   4.0   10.00   33.0   177.00   1516.0  \n"
     ]
    },
    {
     "data": {
      "image/png": "[encoded data removed]",
      "text/plain": [
       "<Figure size 1000x600 with 1 Axes>"
      ]
     },
     "metadata": {},
     "output_type": "display_data"
    }
   ],
   "source": [
    "# Extract hour and adjust based on AM/PM\n",
    "df['published_time'] = df['publishedAt'].dt.hour\n",
    "df['published_time'] = df['publishedAt'].dt.strftime('%H:%M')  # 24-hour format\n",
    "df['published_hour'] = df['publishedAt'].dt.hour\n",
    "hourwise_engagement = df.groupby('published_hour')[['viewCount', 'commentCount']].mean()\n",
    "print( df.groupby('published_hour')[['viewCount', 'commentCount']].describe())\n",
    "# Plot the results for publishing time\n",
    "hourwise_engagement.plot(kind='line', figsize=(10, 6))\n",
    "plt.title('Average Views and Comments by Publishing Hour')\n",
    "plt.xlabel('Hour of the Day')\n",
    "plt.ylabel('Average Engagement')\n",
    "plt.show()\n"
   ]
  },
  {
   "cell_type": "code",
   "execution_count": 73,
   "id": "ab064fb0-b0d9-473e-a14f-d5eb80e4ca02",
   "metadata": {},
   "outputs": [
    {
     "name": "stdout",
     "output_type": "stream",
     "text": [
      "              viewCount                                                \\\n",
      "                  count          mean           std     min       25%   \n",
      "published_day                                                           \n",
      "Friday            799.0  2.118497e+06  1.043351e+07  2182.0  63726.50   \n",
      "Monday            718.0  2.433188e+06  8.301241e+06     0.0  63011.25   \n",
      "Saturday          683.0  2.717408e+06  3.028186e+07  7121.0  56816.50   \n",
      "Sunday            634.0  1.214689e+06  3.827392e+06  3197.0  52618.75   \n",
      "Thursday          812.0  1.354182e+06  4.393940e+06  1725.0  58843.00   \n",
      "Tuesday           767.0  2.181236e+06  8.983795e+06  3569.0  53644.50   \n",
      "Wednesday         785.0  3.008420e+06  3.241392e+07  3636.0  63650.00   \n",
      "\n",
      "                                                 commentCount              \\\n",
      "                    50%         75%          max        count        mean   \n",
      "published_day                                                               \n",
      "Friday         247776.0   882169.50  152448025.0        798.0  693.993734   \n",
      "Monday         247307.0   990223.75   92975205.0        716.0  647.121508   \n",
      "Saturday       212343.0   957904.50  784558766.0        681.0  684.461087   \n",
      "Sunday         208022.0   779068.00   61248812.0        634.0  437.514196   \n",
      "Thursday       207097.0   865327.50   53060075.0        811.0  678.260173   \n",
      "Tuesday        209899.0  1112943.50  164219558.0        766.0  813.066580   \n",
      "Wednesday      218183.0   988232.00  888330690.0        785.0  592.903185   \n",
      "\n",
      "                                                                \n",
      "                       std  min    25%    50%     75%      max  \n",
      "published_day                                                   \n",
      "Friday         1827.238676  0.0  48.25  163.0  556.25  20566.0  \n",
      "Monday         1871.290571  0.0  50.00  143.5  460.00  21261.0  \n",
      "Saturday       2935.855225  0.0  44.00  132.0  481.00  59038.0  \n",
      "Sunday          947.574773  0.0  37.25  120.0  414.75  10331.0  \n",
      "Thursday       2087.682829  0.0  43.00  151.0  479.50  31173.0  \n",
      "Tuesday        2469.941771  0.0  46.00  149.5  555.75  26302.0  \n",
      "Wednesday      1314.261266  0.0  38.00  146.0  519.00  11671.0  \n"
     ]
    },
    {
     "data": {
      "image/png": "[encoded data removed]",
      "text/plain": [
       "<Figure size 1000x600 with 1 Axes>"
      ]
     },
     "metadata": {},
     "output_type": "display_data"
    }
   ],
   "source": [
    "daywise_engagement = df.groupby('published_day')[['viewCount', 'commentCount']].mean()\n",
    "print(df.groupby('published_day')[['viewCount', 'commentCount']].describe())\n",
    "# Plot the results to visualize patterns\n",
    "daywise_engagement.plot(kind='bar', figsize=(10, 6))\n",
    "plt.title('Average Views and Comments by Publishing Day')\n",
    "plt.xlabel('Day of the Week')\n",
    "plt.ylabel('Average Engagement')\n",
    "plt.show()"
   ]
  },
  {
   "cell_type": "code",
   "execution_count": 76,
   "id": "a89d811d-cd9e-42b3-9df5-95e72b31fd2b",
   "metadata": {},
   "outputs": [
    {
     "data": {
      "text/plain": [
       "Index(['video_id', 'title', 'description', 'tags', 'publishedAt', 'thumbnails',\n",
       "       'liveBroadcastContent', 'viewCount', 'likeCount', 'commentCount',\n",
       "       'duration_in_min', 'TagsCount', 'Category', 'published_date',\n",
       "       'published_day', 'published_time', 'adjusted_hour', 'published_hour'],\n",
       "      dtype='object')"
      ]
     },
     "execution_count": 76,
     "metadata": {},
     "output_type": "execute_result"
    }
   ],
   "source": [
    "df.columns"
   ]
  },
  {
   "cell_type": "markdown",
   "id": "9c45a7d8-17aa-4792-b74e-777d3c2206f2",
   "metadata": {},
   "source": [
    " ##Which video is most popular on our channel and break down the reasons \n",
    "why it worked well. "
   ]
  },
  {
   "cell_type": "code",
   "execution_count": 80,
   "id": "89da676f-2b41-4bc8-969f-d8b6c9473305",
   "metadata": {},
   "outputs": [
    {
     "name": "stdout",
     "output_type": "stream",
     "text": [
      "Most Popular Video Details:\n",
      "Video ID: U15sCqscZAk\n",
      "Title: Mighty Little Bheem | Bheem with a Beat | Netflix India\n",
      "Views: 888330690\n",
      "Published_date: 2019-04-24\n",
      "duration: 3.2666666666666666\n",
      "Category: short\n",
      "Tags: ['Adventure', 'Indian', 'videos', 'animated shows on netflix', 'Jungle', 'funny kids shows', 'Videos for kids', 'show', 'Animals', 'mighty little bheem clips', 'Cartoon', 'Mighty Little Bheem', 'Drums', 'Indian shows for kids', 'kid series on netflix', 'comedy videos', 'funny videos', 'kids series', 'netflix india orignals', 'mighty little bheem', 'Kids', 'netflix india animated series', 'kids shows on netflix', 'clips', 'netflix kids', 'animation', 'mighty bheem videos', 'Shows for kids']\n"
     ]
    }
   ],
   "source": [
    "most_popular_video = df.loc[df['viewCount'].idxmax()]\n",
    "most_popular_video_details = {\n",
    "    \"Video ID\": most_popular_video['video_id'],\n",
    "    \"Title\":most_popular_video['title'],\n",
    "    \"Views\": most_popular_video['viewCount'],\n",
    "    \"Published_date\": most_popular_video['published_date'],\n",
    "    \"duration\": most_popular_video['duration_in_min'],\n",
    "    \"Category\": most_popular_video['Category'],\n",
    "    \"Tags\": most_popular_video['tags']\n",
    "}\n",
    "\n",
    "# Display details of the most popular video\n",
    "print(\"Most Popular Video Details:\")\n",
    "for key, value in most_popular_video_details.items():\n",
    "    print(f\"{key}: {value}\")"
   ]
  },
  {
   "cell_type": "markdown",
   "id": "e0fe5f8f-3e8b-4f6d-a6bb-dff9b3f3a619",
   "metadata": {},
   "source": [
    "##Does title length influence views? "
   ]
  },
  {
   "cell_type": "code",
   "execution_count": 84,
   "id": "c3133c97-5d89-4961-95e7-94dd328b02f8",
   "metadata": {},
   "outputs": [
    {
     "name": "stdout",
     "output_type": "stream",
     "text": [
      "Correlation between Title Length and View Count:\n",
      "              title_length  viewCount\n",
      "title_length      1.000000   0.003943\n",
      "viewCount         0.003943   1.000000\n"
     ]
    }
   ],
   "source": [
    "title_lengths = df['title'].apply(len)\n",
    "\n",
    "# Perform correlation analysis\n",
    "correlation = pd.DataFrame({\n",
    "    'title_length': title_lengths,\n",
    "    'viewCount': df['viewCount']\n",
    "}).corr()\n",
    "\n",
    "print(\"Correlation between Title Length and View Count:\")\n",
    "print(correlation)"
   ]
  },
  {
   "cell_type": "code",
   "execution_count": 87,
   "id": "848832d1-975c-4fb6-bdd2-71bfc8ccbbff",
   "metadata": {},
   "outputs": [
    {
     "name": "stdout",
     "output_type": "stream",
     "text": [
      "         video_id  viewCount\n",
      "0     KQ2a4uawQBo      52864\n",
      "1     bOR7S0j_wq8      44300\n",
      "2     GRM8Q-1fVJ0     201087\n",
      "3     b0b8WBglCHo      19642\n",
      "4     QCPOl_7cdnQ     117292\n",
      "...           ...        ...\n",
      "5193  0ZtBSRUaDiM      37628\n",
      "5194  jrQ2BMBDq_E     117356\n",
      "5195  59Bn98DvO-0      55580\n",
      "5196  s0Q9m8DKp8I      53138\n",
      "5197  3qngpGAS6wE      49164\n",
      "\n",
      "[5198 rows x 2 columns]\n"
     ]
    }
   ],
   "source": [
    "unique_video_viewCount = df[['video_id', 'viewCount']].drop_duplicates()\n",
    "\n",
    "# Display the result\n",
    "print(unique_video_viewCount)"
   ]
  },
  {
   "cell_type": "code",
   "execution_count": null,
   "id": "91eb2d73-dcfe-4d1a-bea9-20d47f77317f",
   "metadata": {},
   "outputs": [],
   "source": []
  },
  {
   "cell_type": "code",
   "execution_count": null,
   "id": "5baca77a-4bfc-46b0-bdb7-436b953693c7",
   "metadata": {},
   "outputs": [],
   "source": []
  },
  {
   "cell_type": "markdown",
   "id": "51381ad6-aedf-45ae-9642-bc46eb3da7f3",
   "metadata": {},
   "source": [
    "##__Which day of the week has the highest average views for published videos?__"
   ]
  },
  {
   "cell_type": "code",
   "execution_count": 71,
   "id": "831bf982-74cd-45cc-a961-327f46b86346",
   "metadata": {},
   "outputs": [
    {
     "data": {
      "text/plain": [
       "'Wednesday'"
      ]
     },
     "execution_count": 71,
     "metadata": {},
     "output_type": "execute_result"
    }
   ],
   "source": [
    "df_week = df.groupby('published_day')['viewCount'].mean()\n",
    "highest = df_week.idxmax()\n",
    "highest"
   ]
  },
  {
   "cell_type": "markdown",
   "id": "be21b750-8d30-4bcb-9f23-8736b0ac7302",
   "metadata": {},
   "source": [
    "How many valid video IDs have surpassed 1 million views on the channel?"
   ]
  },
  {
   "cell_type": "code",
   "execution_count": 48,
   "id": "82dc12cb-62e4-42a4-9b71-cb6331e3c989",
   "metadata": {},
   "outputs": [],
   "source": [
    "df['video_id'].unique()\n",
    "df['video_id'] = df['video_id'].replace('#NAME?', np.nan)"
   ]
  },
  {
   "cell_type": "code",
   "execution_count": 51,
   "id": "e1009d90-d386-4920-9aeb-664a8fb9bfe4",
   "metadata": {},
   "outputs": [
    {
     "data": {
      "text/plain": [
       "1230"
      ]
     },
     "execution_count": 51,
     "metadata": {},
     "output_type": "execute_result"
    }
   ],
   "source": [
    "videos_over_1_million = df[df['viewCount'] >= 1000000]\n",
    "valid_count = videos_over_1_million.video_id.dropna().nunique()\n",
    "valid_count"
   ]
  },
  {
   "cell_type": "code",
   "execution_count": null,
   "id": "39154873-6405-4743-933b-22313613f472",
   "metadata": {},
   "outputs": [],
   "source": []
  }
 ],
 "metadata": {
  "kernelspec": {
   "display_name": "Python 3 (ipykernel)",
   "language": "python",
   "name": "python3"
  },
  "language_info": {
   "codemirror_mode": {
    "name": "ipython",
    "version": 3
   },
   "file_extension": ".py",
   "mimetype": "text/x-python",
   "name": "python",
   "nbconvert_exporter": "python",
   "pygments_lexer": "ipython3",
   "version": "3.10.11"
  }
 },
 "nbformat": 4,
 "nbformat_minor": 5
}
